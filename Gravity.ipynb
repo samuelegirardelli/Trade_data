{
 "cells": [
  {
   "cell_type": "code",
   "execution_count": 1,
   "id": "2180554f",
   "metadata": {},
   "outputs": [],
   "source": [
    "import pandas as pd\n",
    "from math import asin, sin, cos, sqrt, radians\n",
    "import gme as gme\n",
    "import numpy as np\n",
    "import statsmodels.api as sm"
   ]
  },
  {
   "cell_type": "code",
   "execution_count": 2,
   "id": "7417810e",
   "metadata": {},
   "outputs": [],
   "source": [
    "# TradeData_11_13_2023_9_33_13.csv data for trade 2022 contry to country UN com trade "
   ]
  },
  {
   "cell_type": "code",
   "execution_count": 3,
   "id": "949ab962",
   "metadata": {},
   "outputs": [],
   "source": [
    "data = pd.read_csv(\"TradeData_11_13_2023_9_33_13.csv\", encoding='latin1')\n"
   ]
  },
  {
   "cell_type": "code",
   "execution_count": 4,
   "id": "b83c5b2b",
   "metadata": {},
   "outputs": [],
   "source": [
    "# What is FOB value?\n",
    "# (a) FOB Value = Ex-Factory Price + Other Costs. (b) Other Costs in the calculation of the FOB value shall refer to the costs incurred in placing the goods in the ship for export, \n",
    "# including but not limited to, domestic transport costs, storage and warehousing, port handling, brokerage fees, service charges, et cetera."
   ]
  },
  {
   "cell_type": "code",
   "execution_count": 5,
   "id": "dd864004",
   "metadata": {},
   "outputs": [],
   "source": [
    "def haversine_distance(lat1, long1, lat2, long2, R=6371.0):\n",
    "    \"\"\"\n",
    "    Calculate the Haversine distance between two points on the Earth's surface.\n",
    "\n",
    "    Parameters:\n",
    "    - lat1, long1: Latitude and longitude of the first point in degrees\n",
    "    - lat2, long2: Latitude and longitude of the second point in degrees\n",
    "    - R: Radius of the Earth in kilometers (default is 6371.0 km)\n",
    "\n",
    "    Returns:\n",
    "    - Distance between the two points in kilometers\n",
    "    \"\"\"\n",
    "    lat1, long1, lat2, long2 = map(float, [lat1, long1, lat2, long2])\n",
    "    lat1, long1, lat2, long2 = map(radians, [lat1, long1, lat2, long2])\n",
    "\n",
    "    dlat = lat2 - lat1\n",
    "    dlong = long2 - long1\n",
    "\n",
    "    a = sin(dlat/2)**2 + cos(lat1) * cos(lat2) * sin(dlong/2)**2\n",
    "    c = 2 * asin(sqrt(a))\n",
    "\n",
    "    distance_km = R * c\n",
    "    return distance_km\n"
   ]
  },
  {
   "cell_type": "code",
   "execution_count": 6,
   "id": "c466edb6",
   "metadata": {},
   "outputs": [],
   "source": [
    "## Data cleaning\n",
    "# 1 Removing all trades Country to All\n",
    "all_mask = data.PartnerCode != 'ALL'\n",
    "data = data[all_mask]\n",
    "# 2 Eliminate Ref period, all 2022, FreqCode, TypeCode (Goods) -> select columns\n",
    "export_data = data[['RefYear','ReporterCode','ReporterISO','ReporterDesc','PartnerCode','PartnerISO','PartnerDesc','Fobvalue']]\n",
    "# 3 Eliminate all aggragtes of country (Europe, ecc...) using  ISO 3166\n",
    "single_countries = pd.read_excel(\"CODE_ONLY_STATE.xlsx\")\n",
    "mask_single_countries = export_data['ReporterISO'].isin(single_countries['ISO-alpha3 code'])\n",
    "export_data_singles = export_data[mask_single_countries]\n",
    "## Adding latitude and longitude data Countries with their (ISO 3166-1) Alpha-2 code, Alpha-3 code, UN M49, average latitude and longitude coordinates\n",
    "lat_long = pd.read_csv(\"lat_long.csv\")\n",
    "lat_long = lat_long.replace('\"', '', regex=True)\n",
    "lat_long = lat_long.applymap(lambda x: x.strip() if isinstance(x, str) else x)\n",
    "lat_long_rep = lat_long.add_suffix('_rep')\n",
    "lat_long_part = lat_long.add_suffix('_part')\n",
    "## Now I will merge the data lat_long with the export database first with reporter then partner in order to calculate the distances\n",
    "merged_data = pd.merge(export_data_singles, lat_long_rep, left_on='ReporterISO', right_on='Alpha-3 code_rep', how = 'left')\n",
    "merged_data = pd.merge(merged_data, lat_long_part, left_on='PartnerISO', right_on='Alpha-3 code_part', how = 'left')\n",
    "merged_data = merged_data.dropna()\n",
    "\n",
    "## Database of gravity data\n",
    "gravity_data = merged_data[['RefYear','ReporterISO','PartnerISO','Fobvalue','Latitude (average)_rep','Longitude (average)_rep','Latitude (average)_part','Longitude (average)_part']]\n",
    "gravity_data = gravity_data.copy()\n",
    "gravity_data.rename(columns={'ReporterISO': 'ReporterISO',\n",
    "                             'PartnerISO': 'PartnerISO',\n",
    "                             'Fobvalue': 'value',\n",
    "                             'Latitude (average)_rep': 'Lat_reporter',\n",
    "                             'Longitude (average)_rep': 'Long_reporter',\n",
    "                             'Latitude (average)_part': 'Lat_part',\n",
    "                             'Longitude (average)_part': 'Long_part',\n",
    "                            'RefYear': 'year'}, inplace=True)\n",
    "\n",
    "gravity_data['distance'] = gravity_data.apply(lambda row: haversine_distance(row['Lat_reporter'], row['Long_reporter'], row['Lat_part'], row['Long_part'], R=6371.0), axis=1)\n",
    "# gravity_data['distance'] = np.log(gravity_data['distance'])\n",
    "gravity_data_distance = gravity_data[['year','ReporterISO','PartnerISO','value','distance']]\n",
    "\n",
    "## Eliminating duplicates\n",
    "# Assuming 'value' is the column you want to consider along with 'distance'\n",
    "gravity_data_fin = gravity_data.drop_duplicates(subset=['distance', 'value'])\n",
    "## Keeping just the countries for which there is code in parter and reporter\n",
    "mask_country = gravity_data_fin['PartnerISO'].isin(gravity_data_fin['ReporterISO'])\n",
    "gravity_data_final = gravity_data_fin[mask_country]"
   ]
  },
  {
   "cell_type": "code",
   "execution_count": 7,
   "id": "208b5be2",
   "metadata": {},
   "outputs": [],
   "source": [
    "## GDP data from world bank"
   ]
  },
  {
   "cell_type": "code",
   "execution_count": 8,
   "id": "02ef817b",
   "metadata": {},
   "outputs": [],
   "source": [
    "gdp = pd.read_csv('API_NY.GDP.MKTP.CD_DS2_en_csv_v2_6011335.csv', skiprows=3)\n",
    "gdp_2022 = gdp[['Country Code','2022']]\n",
    "gdp_2022 = gdp_2022.dropna()"
   ]
  },
  {
   "cell_type": "code",
   "execution_count": 9,
   "id": "5f7a9376",
   "metadata": {},
   "outputs": [
    {
     "data": {
      "text/plain": [
       "Index(['year', 'ReporterISO', 'PartnerISO', 'value', 'Lat_reporter',\n",
       "       'Long_reporter', 'Lat_part', 'Long_part', 'distance'],\n",
       "      dtype='object')"
      ]
     },
     "execution_count": 9,
     "metadata": {},
     "output_type": "execute_result"
    }
   ],
   "source": [
    "gravity_data_final.columns"
   ]
  },
  {
   "cell_type": "code",
   "execution_count": 18,
   "id": "385d9864",
   "metadata": {},
   "outputs": [],
   "source": [
    "## Merging\n",
    "gravity = pd.merge(gravity_data_final,gdp_2022,left_on = 'ReporterISO',right_on='Country Code', how = 'left')\n",
    "gravity = pd.merge(gravity,gdp_2022,left_on = 'PartnerISO',right_on='Country Code',how = 'left')\n",
    "\n",
    "GRAVITY = gravity[['year', 'ReporterISO', 'PartnerISO', 'value', 'distance','2022_x', '2022_y']].copy()\n",
    "GRAVITY.rename(columns={'2022_x': 'GDP_rep',\n",
    "                             '2022_y': 'GDP_part',\n",
    "                             }, inplace=True)\n",
    "GRAVITY = GRAVITY.dropna()"
   ]
  },
  {
   "cell_type": "code",
   "execution_count": 19,
   "id": "c7c16efc",
   "metadata": {},
   "outputs": [
    {
     "name": "stdout",
     "output_type": "stream",
     "text": [
      "                            OLS Regression Results                            \n",
      "==============================================================================\n",
      "Dep. Variable:                  value   R-squared:                       0.658\n",
      "Model:                            OLS   Adj. R-squared:                  0.658\n",
      "Method:                 Least Squares   F-statistic:                     8914.\n",
      "Date:                Mon, 13 Nov 2023   Prob (F-statistic):               0.00\n",
      "Time:                        12:28:23   Log-Likelihood:                -31950.\n",
      "No. Observations:               13888   AIC:                         6.391e+04\n",
      "Df Residuals:                   13884   BIC:                         6.394e+04\n",
      "Df Model:                           3                                         \n",
      "Covariance Type:            nonrobust                                         \n",
      "==============================================================================\n",
      "                 coef    std err          t      P>|t|      [0.025      0.975]\n",
      "------------------------------------------------------------------------------\n",
      "const        -32.9595      0.437    -75.383      0.000     -33.817     -32.102\n",
      "GDP_rep        1.4439      0.011    134.127      0.000       1.423       1.465\n",
      "GDP_part       1.0205      0.010    100.107      0.000       1.001       1.040\n",
      "distance      -1.6224      0.024    -66.533      0.000      -1.670      -1.575\n",
      "==============================================================================\n",
      "Omnibus:                     1911.626   Durbin-Watson:                   1.643\n",
      "Prob(Omnibus):                  0.000   Jarque-Bera (JB):             4407.736\n",
      "Skew:                          -0.809   Prob(JB):                         0.00\n",
      "Kurtosis:                       5.236   Cond. No.                         794.\n",
      "==============================================================================\n",
      "\n",
      "Notes:\n",
      "[1] Standard Errors assume that the covariance matrix of the errors is correctly specified.\n"
     ]
    }
   ],
   "source": [
    "X = sm.add_constant(np.log(GRAVITY[['GDP_rep', 'GDP_part', 'distance']]))\n",
    "y = np.log(GRAVITY['value'])\n",
    "\n",
    "model = sm.OLS(y, X)\n",
    "results = model.fit()\n",
    "\n",
    "print(results.summary())\n"
   ]
  },
  {
   "cell_type": "code",
   "execution_count": 21,
   "id": "2ca80fc2",
   "metadata": {},
   "outputs": [
    {
     "name": "stdout",
     "output_type": "stream",
     "text": [
      "       Residuals  Predicted     Actual\n",
      "0      -4.452028  13.019677   8.567649\n",
      "1      -1.539317  13.703885  12.164569\n",
      "2      -1.499089  14.465321  12.966232\n",
      "3      -0.405574  17.633492  17.227918\n",
      "4      -1.248862  16.830696  15.581834\n",
      "...          ...        ...        ...\n",
      "14320   0.319685  16.575824  16.895509\n",
      "14321  -0.569506  16.008459  15.438953\n",
      "14322  -0.055947  17.848507  17.792560\n",
      "14323  -2.021733  12.293099  10.271366\n",
      "14324  -1.926534  13.092417  11.165883\n",
      "\n",
      "[13888 rows x 3 columns]\n"
     ]
    },
    {
     "data": {
      "image/png": "[encoded data removed]",
      "text/plain": [
       "<Figure size 432x288 with 1 Axes>"
      ]
     },
     "metadata": {
      "needs_background": "light"
     },
     "output_type": "display_data"
    }
   ],
   "source": [
    "import statsmodels.api as sm\n",
    "import numpy as np\n",
    "import pandas as pd\n",
    "\n",
    "# Assuming you have already fitted your OLS model and stored the results in the 'results' variable\n",
    "# If not, fit the model first using the code provided earlier\n",
    "\n",
    "# Access the residuals\n",
    "residuals = results.resid\n",
    "\n",
    "# Create a DataFrame to store the residuals along with other relevant variables\n",
    "residuals_df = pd.DataFrame({'Residuals': residuals, 'Predicted': results.fittedvalues, 'Actual': y})\n",
    "\n",
    "# Display the DataFrame\n",
    "print(residuals_df)\n",
    "\n",
    "\n",
    "import matplotlib.pyplot as plt\n",
    "\n",
    "# Scatter plot of predicted vs. residuals\n",
    "plt.scatter(results.fittedvalues, residuals)\n",
    "plt.xlabel('Predicted Values')\n",
    "plt.ylabel('Residuals')\n",
    "plt.title('Residuals vs. Predicted Values')\n",
    "plt.show()\n"
   ]
  },
  {
   "cell_type": "code",
   "execution_count": null,
   "id": "6741bc2e",
   "metadata": {},
   "outputs": [],
   "source": []
  }
 ],
 "metadata": {
  "kernelspec": {
   "display_name": "py39",
   "language": "python",
   "name": "py39"
  },
  "language_info": {
   "codemirror_mode": {
    "name": "ipython",
    "version": 3
   },
   "file_extension": ".py",
   "mimetype": "text/x-python",
   "name": "python",
   "nbconvert_exporter": "python",
   "pygments_lexer": "ipython3",
   "version": "3.9.7"
  }
 },
 "nbformat": 4,
 "nbformat_minor": 5
}
